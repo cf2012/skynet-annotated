{
 "cells": [
  {
   "cell_type": "markdown",
   "metadata": {},
   "source": [
    "做一个动态链接库\n",
    "\n",
    "```sh\n",
    "cd ../skynet-master \n",
    "\n",
    "# 编译\n",
    "cc -g -O2 -Wall -fPIC -dynamiclib -Wl,-undefined,dynamic_lookup -I3rd/lua  -o libskynet.so skynet-src/skynet_main.c skynet-src/skynet_handle.c skynet-src/skynet_module.c skynet-src/skynet_mq.c skynet-src/skynet_server.c skynet-src/skynet_start.c skynet-src/skynet_timer.c skynet-src/skynet_error.c skynet-src/skynet_harbor.c skynet-src/skynet_env.c skynet-src/skynet_monitor.c skynet-src/skynet_socket.c skynet-src/socket_server.c skynet-src/malloc_hook.c skynet-src/skynet_daemon.c skynet-src/skynet_log.c 3rd/lua/liblua.a -Iskynet-src -I3rd/jemalloc/include/jemalloc   -lpthread -lm -ldl -DNOUSE_JEMALLOC\n",
    "\n",
    "```"
   ]
  },
  {
   "cell_type": "code",
   "execution_count": 2,
   "metadata": {},
   "outputs": [],
   "source": [
    "from cffi import FFI\n",
    "ffi = FFI()"
   ]
  },
  {
   "cell_type": "code",
   "execution_count": 3,
   "metadata": {},
   "outputs": [],
   "source": [
    "ffi.cdef(\"\"\"\n",
    "\n",
    "const char * skynet_getenv(const char *key);\n",
    "void skynet_setenv(const char *key, const char *value);\n",
    "\n",
    "void skynet_env_init();\n",
    "\"\"\", override=True)\n",
    "\n"
   ]
  },
  {
   "cell_type": "code",
   "execution_count": 4,
   "metadata": {},
   "outputs": [],
   "source": [
    "lib = ffi.dlopen('../skynet-master/libskynet.so')\n"
   ]
  },
  {
   "cell_type": "code",
   "execution_count": 5,
   "metadata": {},
   "outputs": [],
   "source": [
    "lib.skynet_env_init()"
   ]
  },
  {
   "cell_type": "code",
   "execution_count": 14,
   "metadata": {},
   "outputs": [],
   "source": [
    "# 定义变量\n",
    "k = ffi.new(\"char[]\", b\"v1\")\n",
    "v = ffi.new(\"char[]\", b\"100\")\n"
   ]
  },
  {
   "cell_type": "code",
   "execution_count": 17,
   "metadata": {},
   "outputs": [],
   "source": [
    "k = b\"host\"\n",
    "v = b\"localhost\"\n",
    "lib.skynet_setenv(k, v)"
   ]
  },
  {
   "cell_type": "code",
   "execution_count": 18,
   "metadata": {},
   "outputs": [
    {
     "data": {
      "text/plain": [
       "b'localhost'"
      ]
     },
     "execution_count": 18,
     "metadata": {},
     "output_type": "execute_result"
    }
   ],
   "source": [
    "ffi.string(lib.skynet_getenv(k))"
   ]
  },
  {
   "cell_type": "code",
   "execution_count": 15,
   "metadata": {},
   "outputs": [],
   "source": [
    "# 赋值\n",
    "for i in range(10):\n",
    "    k = b\"V%d\"%i\n",
    "    v = b\"%d\"%i\n",
    "    lib.skynet_setenv(k, v)\n",
    "    \n"
   ]
  },
  {
   "cell_type": "code",
   "execution_count": 16,
   "metadata": {},
   "outputs": [
    {
     "name": "stdout",
     "output_type": "stream",
     "text": [
      "b'0'\n",
      "b'1'\n",
      "b'2'\n",
      "b'3'\n",
      "b'4'\n",
      "b'5'\n",
      "b'6'\n",
      "b'7'\n",
      "b'8'\n",
      "b'9'\n"
     ]
    }
   ],
   "source": [
    "# 获得值\n",
    "for i in range(10):\n",
    "    k = b\"V%d\"%i\n",
    "    print(ffi.string(lib.skynet_getenv(k)))"
   ]
  },
  {
   "cell_type": "markdown",
   "metadata": {},
   "source": [
    "## 测试 setenv 时,  key已经存在\n",
    "```C\n",
    "/** 向lua虚拟机中 */\n",
    "void \n",
    "skynet_setenv(const char *key, const char *value) {\n",
    "\tSPIN_LOCK(E)\n",
    "\t\n",
    "\tlua_State *L = E->L;\n",
    "\tlua_getglobal(L, key); // 将 key对应的值压入栈顶\n",
    "\tassert(lua_isnil(L, -1)); // key 对应的值应该为 nil. 如果不为 nil?\n",
    "\tlua_pop(L,1);\n",
    "\tlua_pushstring(L,value);\n",
    "\tlua_setglobal(L,key);\n",
    "\n",
    "\tSPIN_UNLOCK(E)\n",
    "}\n",
    "\n",
    "```"
   ]
  },
  {
   "cell_type": "code",
   "execution_count": 19,
   "metadata": {},
   "outputs": [],
   "source": [
    "k = b\"key_t2\"\n",
    "v = b\"value of t2\"\n",
    "lib.skynet_setenv(k, v)"
   ]
  },
  {
   "cell_type": "markdown",
   "metadata": {},
   "source": [
    "使用原有 k 继续"
   ]
  },
  {
   "cell_type": "code",
   "execution_count": null,
   "metadata": {},
   "outputs": [],
   "source": [
    "v = b\"value 2 of t2\"\n",
    "lib.skynet_setenv(k, v)\n"
   ]
  },
  {
   "cell_type": "markdown",
   "metadata": {},
   "source": [
    "执行后, jupyter 提示 \"服务似乎挂掉了,但是会立刻重启的.\""
   ]
  },
  {
   "cell_type": "code",
   "execution_count": null,
   "metadata": {},
   "outputs": [],
   "source": []
  }
 ],
 "metadata": {
  "kernelspec": {
   "display_name": "Python 3",
   "language": "python",
   "name": "python3"
  },
  "language_info": {
   "codemirror_mode": {
    "name": "ipython",
    "version": 3
   },
   "file_extension": ".py",
   "mimetype": "text/x-python",
   "name": "python",
   "nbconvert_exporter": "python",
   "pygments_lexer": "ipython3",
   "version": "3.7.1"
  }
 },
 "nbformat": 4,
 "nbformat_minor": 2
}
